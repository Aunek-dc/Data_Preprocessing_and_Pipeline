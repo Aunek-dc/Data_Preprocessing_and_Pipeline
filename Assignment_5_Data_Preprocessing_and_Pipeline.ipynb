{
  "nbformat": 4,
  "nbformat_minor": 0,
  "metadata": {
    "colab": {
      "provenance": [],
      "include_colab_link": true
    },
    "kernelspec": {
      "name": "python3",
      "display_name": "Python 3"
    },
    "language_info": {
      "name": "python"
    }
  },
  "cells": [
    {
      "cell_type": "markdown",
      "metadata": {
        "id": "view-in-github",
        "colab_type": "text"
      },
      "source": [
        "<a href=\"https://colab.research.google.com/github/Aunek-dc/Data_Preprocessing_and_Pipeline/blob/main/Assignment_5_Data_Preprocessing_and_Pipeline.ipynb\" target=\"_parent\"><img src=\"https://colab.research.google.com/assets/colab-badge.svg\" alt=\"Open In Colab\"/></a>"
      ]
    },
    {
      "cell_type": "code",
      "source": [
        "from google.colab import drive\n",
        "drive.mount('/content/drive')"
      ],
      "metadata": {
        "colab": {
          "base_uri": "https://localhost:8080/"
        },
        "id": "bW8hR0OBK3Gs",
        "outputId": "15ce18e9-6c45-402b-d246-387c188863a3"
      },
      "execution_count": 1,
      "outputs": [
        {
          "output_type": "stream",
          "name": "stdout",
          "text": [
            "Mounted at /content/drive\n"
          ]
        }
      ]
    },
    {
      "cell_type": "code",
      "execution_count": 2,
      "metadata": {
        "id": "kxzHrZ-S1J5-",
        "colab": {
          "base_uri": "https://localhost:8080/"
        },
        "outputId": "9df4a923-6bad-4e8b-9a92-7cad7a75cb13"
      },
      "outputs": [
        {
          "output_type": "stream",
          "name": "stdout",
          "text": [
            "Number of houses: ___ 7085\n",
            "      price  area  bedrooms  bathrooms  stories mainroad guestroom basement  \\\n",
            "0  13300000  7420         4          2        3      yes        no       no   \n",
            "1  12250000  8960         4          4        4      yes        no       no   \n",
            "2  12250000  9960         3          2        2      yes        no      yes   \n",
            "\n",
            "  hotwaterheating airconditioning  parking prefarea furnishingstatus  \n",
            "0              no             yes        2      yes        furnished  \n",
            "1              no             yes        3       no        furnished  \n",
            "2              no              no        2      yes   semi-furnished  \n"
          ]
        }
      ],
      "source": [
        "#Load the Data\n",
        "import pandas as pd\n",
        "import numpy as np\n",
        "from sklearn.model_selection import train_test_split\n",
        "from sklearn.preprocessing import StandardScaler, LabelEncoder\n",
        "\n",
        "# TODO: Load the housing data\n",
        "df = pd.read_csv('/content/drive/MyDrive/1st of all/Skill Morph/Assignment 5/Housing.csv')\n",
        "\n",
        "# TODO: How many houses are there?\n",
        "print(f\"Number of houses: ___\", df.size)  # Fill this\n",
        "\n",
        "# TODO: Show first 3 houses\n",
        "print(df.head(3))\n",
        "# Your code here"
      ]
    },
    {
      "cell_type": "code",
      "source": [
        "# Look at Columns\n",
        "# TODO: Show all column names\n",
        "print(\"Columns:\", df.columns)\n",
        "# Your code here\n",
        "\n",
        "# TODO: Show data types of columns\n",
        "print(\"Data types:\", df.dtypes)"
      ],
      "metadata": {
        "id": "jY6xciSB1fGX",
        "colab": {
          "base_uri": "https://localhost:8080/"
        },
        "outputId": "f9e6f260-ba08-4886-9855-4c0e80a90645"
      },
      "execution_count": 3,
      "outputs": [
        {
          "output_type": "stream",
          "name": "stdout",
          "text": [
            "Columns: Index(['price', 'area', 'bedrooms', 'bathrooms', 'stories', 'mainroad',\n",
            "       'guestroom', 'basement', 'hotwaterheating', 'airconditioning',\n",
            "       'parking', 'prefarea', 'furnishingstatus'],\n",
            "      dtype='object')\n",
            "Data types: price                int64\n",
            "area                 int64\n",
            "bedrooms             int64\n",
            "bathrooms            int64\n",
            "stories              int64\n",
            "mainroad            object\n",
            "guestroom           object\n",
            "basement            object\n",
            "hotwaterheating     object\n",
            "airconditioning     object\n",
            "parking              int64\n",
            "prefarea            object\n",
            "furnishingstatus    object\n",
            "dtype: object\n"
          ]
        }
      ]
    },
    {
      "cell_type": "code",
      "source": [
        "#Convert Yes/No to 1/0\n",
        "# Check what's in our data\n",
        "print(\"Current mainroad values:\", df['mainroad'].head())\n",
        "# print(\"Current mainroad values:\\n\", df[['mainroad', 'guestroom', 'basement', 'hotwaterheating', 'airconditioning', 'prefarea']].head())\n",
        "# Shows: yes, no, yes, yes, no\n",
        "\n",
        "# Models need numbers, not text!\n",
        "# We need: yes → 1, no → 0\n",
        "label_Encoder=LabelEncoder()\n",
        "df['mainroad_encoded']=label_Encoder.fit_transform(df['mainroad'])\n",
        "df['guestroom_encoded']=label_Encoder.fit_transform(df['guestroom'])\n",
        "df['basement_encoded']=label_Encoder.fit_transform(df['basement'])\n",
        "df['hotwaterheating_encoded']=label_Encoder.fit_transform(df['hotwaterheating'])\n",
        "df['airconditioning_encoded']=label_Encoder.fit_transform(df['airconditioning'])\n",
        "df['prefarea_encoded']=label_Encoder.fit_transform(df['prefarea'])\n",
        "df_encoded = pd.get_dummies(df['furnishingstatus'])\n",
        "df = pd.concat([df, df_encoded], axis=1)\n",
        "\n",
        "# print(\"Current mainroad values:\\n\",\n",
        "      # df[['mainroad', 'mainroad_encoded', 'guestroom', 'guestroom_encoded', 'basement', 'basement_encoded',\\\n",
        "          # 'hotwaterheating', 'hotwaterheating_encoded', 'airconditioning', 'airconditioning_encoded', 'prefarea',\\\n",
        "          # 'prefarea_encoded', 'furnishingstatus', 'furnishingstatus_encoded']].head())\n",
        "print(\"Current mainroad values:\\n\", df.head())\n"
      ],
      "metadata": {
        "id": "MwB1ZgVl1plX",
        "colab": {
          "base_uri": "https://localhost:8080/"
        },
        "outputId": "da9b8b9b-8759-4a09-f8ae-bf144c5cbe64"
      },
      "execution_count": 4,
      "outputs": [
        {
          "output_type": "stream",
          "name": "stdout",
          "text": [
            "Current mainroad values: 0    yes\n",
            "1    yes\n",
            "2    yes\n",
            "3    yes\n",
            "4    yes\n",
            "Name: mainroad, dtype: object\n",
            "Current mainroad values:\n",
            "       price  area  bedrooms  bathrooms  stories mainroad guestroom basement  \\\n",
            "0  13300000  7420         4          2        3      yes        no       no   \n",
            "1  12250000  8960         4          4        4      yes        no       no   \n",
            "2  12250000  9960         3          2        2      yes        no      yes   \n",
            "3  12215000  7500         4          2        2      yes        no      yes   \n",
            "4  11410000  7420         4          1        2      yes       yes      yes   \n",
            "\n",
            "  hotwaterheating airconditioning  ...  furnishingstatus mainroad_encoded  \\\n",
            "0              no             yes  ...         furnished                1   \n",
            "1              no             yes  ...         furnished                1   \n",
            "2              no              no  ...    semi-furnished                1   \n",
            "3              no             yes  ...         furnished                1   \n",
            "4              no             yes  ...         furnished                1   \n",
            "\n",
            "  guestroom_encoded  basement_encoded  hotwaterheating_encoded  \\\n",
            "0                 0                 0                        0   \n",
            "1                 0                 0                        0   \n",
            "2                 0                 1                        0   \n",
            "3                 0                 1                        0   \n",
            "4                 1                 1                        0   \n",
            "\n",
            "   airconditioning_encoded  prefarea_encoded  furnished  semi-furnished  \\\n",
            "0                        1                 1       True           False   \n",
            "1                        1                 0       True           False   \n",
            "2                        0                 1      False            True   \n",
            "3                        1                 1       True           False   \n",
            "4                        1                 0       True           False   \n",
            "\n",
            "   unfurnished  \n",
            "0        False  \n",
            "1        False  \n",
            "2        False  \n",
            "3        False  \n",
            "4        False  \n",
            "\n",
            "[5 rows x 22 columns]\n"
          ]
        }
      ]
    },
    {
      "cell_type": "code",
      "source": [
        "print(df.columns)\n",
        "print(df.dtypes)"
      ],
      "metadata": {
        "colab": {
          "base_uri": "https://localhost:8080/"
        },
        "id": "ymD9errxgBdl",
        "outputId": "37958840-13c8-418c-8196-64ccd557f9c0"
      },
      "execution_count": 5,
      "outputs": [
        {
          "output_type": "stream",
          "name": "stdout",
          "text": [
            "Index(['price', 'area', 'bedrooms', 'bathrooms', 'stories', 'mainroad',\n",
            "       'guestroom', 'basement', 'hotwaterheating', 'airconditioning',\n",
            "       'parking', 'prefarea', 'furnishingstatus', 'mainroad_encoded',\n",
            "       'guestroom_encoded', 'basement_encoded', 'hotwaterheating_encoded',\n",
            "       'airconditioning_encoded', 'prefarea_encoded', 'furnished',\n",
            "       'semi-furnished', 'unfurnished'],\n",
            "      dtype='object')\n",
            "price                       int64\n",
            "area                        int64\n",
            "bedrooms                    int64\n",
            "bathrooms                   int64\n",
            "stories                     int64\n",
            "mainroad                   object\n",
            "guestroom                  object\n",
            "basement                   object\n",
            "hotwaterheating            object\n",
            "airconditioning            object\n",
            "parking                     int64\n",
            "prefarea                   object\n",
            "furnishingstatus           object\n",
            "mainroad_encoded            int64\n",
            "guestroom_encoded           int64\n",
            "basement_encoded            int64\n",
            "hotwaterheating_encoded     int64\n",
            "airconditioning_encoded     int64\n",
            "prefarea_encoded            int64\n",
            "furnished                    bool\n",
            "semi-furnished               bool\n",
            "unfurnished                  bool\n",
            "dtype: object\n"
          ]
        }
      ]
    },
    {
      "cell_type": "code",
      "source": [
        "# Split into Train and Test\n",
        "# TODO: Split - 80% train, 20% test\n",
        "\n",
        "numeric_cols = ['area', 'bedrooms', 'bathrooms', 'stories', 'parking']\n",
        "encoded_cols = ['mainroad_encoded', 'guestroom_encoded', 'basement_encoded',\n",
        "                'hotwaterheating_encoded', 'airconditioning_encoded', 'prefarea_encoded']\n",
        "onehot_cols = ['furnished', 'semi-furnished', 'unfurnished']\n",
        "\n",
        "X = df[numeric_cols + encoded_cols + onehot_cols]\n",
        "Y = df['price']\n",
        "\n",
        "# 2️⃣ Train-test split\n",
        "X_train, X_test, Y_train, Y_test = train_test_split(\n",
        "    X, Y,\n",
        "    test_size=0.2,\n",
        "    random_state=30\n",
        ")\n"
      ],
      "metadata": {
        "id": "CGWFD9Do1w2J"
      },
      "execution_count": 6,
      "outputs": []
    },
    {
      "cell_type": "code",
      "source": [
        "#Apply StandardScaler\n",
        "# Area is huge (1650-13300), Bedrooms is small (1-6)!\n",
        "#Your Code here\n",
        "\n",
        "scaler = StandardScaler()\n",
        "\n",
        "X_train_scaled = X_train.copy()\n",
        "X_test_scaled = X_test.copy()\n",
        "\n",
        "# Scale numeric features\n",
        "X_train_scaled[numeric_cols] = scaler.fit_transform(X_train[numeric_cols])\n",
        "X_test_scaled[numeric_cols] = scaler.transform(X_test[numeric_cols])\n",
        "\n",
        "# 4️⃣ Check first row (example)\n",
        "print(\"Original area:\", X_train.iloc[0]['area'])\n",
        "print(\"Scaled area:\", X_train_scaled.iloc[0]['area'])"
      ],
      "metadata": {
        "id": "ORsVWo8E18y1",
        "colab": {
          "base_uri": "https://localhost:8080/"
        },
        "outputId": "74a32e8e-a5af-4d14-f219-d6640d003633"
      },
      "execution_count": 7,
      "outputs": [
        {
          "output_type": "stream",
          "name": "stdout",
          "text": [
            "Original area: 3060\n",
            "Scaled area: -0.9674287935585466\n"
          ]
        }
      ]
    },
    {
      "cell_type": "code",
      "source": [
        "#train and test model\n",
        "#your code here\n",
        "\n",
        "from sklearn.linear_model import LinearRegression\n",
        "from sklearn.metrics import mean_squared_error, r2_score\n",
        "\n",
        "model = LinearRegression()\n",
        "\n",
        "model.fit(X_train_scaled, Y_train)\n",
        "\n",
        "Y_pred = model.predict(X_test_scaled)\n",
        "\n",
        "mse = mean_squared_error(Y_test, Y_pred)\n",
        "rmse = mse**0.5\n",
        "r2 = r2_score(Y_test, Y_pred)\n",
        "\n",
        "print(f\"RMSE: {rmse:.2f}\")\n",
        "print(f\"R^2 score: {r2:.2f}\")\n"
      ],
      "metadata": {
        "id": "khBlvU-f2QnW",
        "colab": {
          "base_uri": "https://localhost:8080/"
        },
        "outputId": "872d4401-451b-4cb8-fa75-ef781200bca7"
      },
      "execution_count": 8,
      "outputs": [
        {
          "output_type": "stream",
          "name": "stdout",
          "text": [
            "RMSE: 1181025.47\n",
            "R^2 score: 0.59\n"
          ]
        }
      ]
    },
    {
      "cell_type": "code",
      "source": [
        "2# Predict a House Price\n",
        "# New house details:\n",
        "# area=5000, bedrooms=3, bathrooms=2, stories=2,\n",
        "# mainroad=yes, guestroom=no, basement=yes,\n",
        "# hotwaterheating=no, airconditioning=yes,\n",
        "# parking=2, prefarea=yes, furnishingstatus=furnished\n",
        "#your code here\n",
        "\n",
        "# get input from user\n",
        "area = float(input(\"Enter area: \"))\n",
        "bedrooms = int(input(\"Enter number of bedrooms: \"))\n",
        "bathrooms = int(input(\"Enter number of bathrooms: \"))\n",
        "stories = int(input(\"Enter number of stories: \"))\n",
        "mainroad = input(\"Mainroad (yes/no): \").lower()\n",
        "guestroom = input(\"Guestroom (yes/no): \").lower()\n",
        "basement = input(\"Basement (yes/no): \").lower()\n",
        "hotwaterheating = input(\"Hot water heating (yes/no): \").lower()\n",
        "airconditioning = input(\"Air conditioning (yes/no): \").lower()\n",
        "parking = int(input(\"Parking: \"))\n",
        "prefarea = input(\"Prefarea (yes/no): \").lower()\n",
        "furnishingstatus = input(\"Furnishing status (furnished/semi-furnished/unfurnished): \").lower()\n",
        "\n",
        "# Convert categorical inputs to numeric/encoded values\n",
        "mainroad_encoded = 1 if mainroad == 'yes' else 0\n",
        "guestroom_encoded = 1 if guestroom == 'yes' else 0\n",
        "basement_encoded = 1 if basement == 'yes' else 0\n",
        "hotwaterheating_encoded = 1 if hotwaterheating == 'yes' else 0\n",
        "airconditioning_encoded = 1 if airconditioning == 'yes' else 0\n",
        "prefarea_encoded = 1 if prefarea == 'yes' else 0\n",
        "\n",
        "furnished = 1 if furnishingstatus == 'furnished' else 0\n",
        "semi_furnished = 1 if furnishingstatus == 'semi-furnished' else 0\n",
        "unfurnished = 1 if furnishingstatus == 'unfurnished' else 0\n",
        "\n",
        "# Create a DataFrame for the new house\n",
        "new_house = pd.DataFrame([{\n",
        "    'area': area,\n",
        "    'bedrooms': bedrooms,\n",
        "    'bathrooms': bathrooms,\n",
        "    'stories': stories,\n",
        "    'mainroad_encoded': mainroad_encoded,\n",
        "    'guestroom_encoded': guestroom_encoded,\n",
        "    'basement_encoded': basement_encoded,\n",
        "    'hotwaterheating_encoded': hotwaterheating_encoded,\n",
        "    'airconditioning_encoded': airconditioning_encoded,\n",
        "    'prefarea_encoded': prefarea_encoded,\n",
        "    'furnished': furnished,\n",
        "    'semi-furnished': semi_furnished,\n",
        "    'unfurnished': unfurnished,\n",
        "    'parking': parking\n",
        "}])\n",
        "\n",
        "# 🔹 Ensure column order matches training features\n",
        "feature_cols = X_train_scaled.columns\n",
        "new_house = new_house[feature_cols]\n",
        "\n",
        "# Scale numeric columns\n",
        "numeric_cols = ['area', 'bedrooms', 'bathrooms', 'stories', 'parking']\n",
        "new_house[numeric_cols] = scaler.transform(new_house[numeric_cols])\n",
        "\n",
        "# Predict price\n",
        "predicted_price = model.predict(new_house)\n",
        "print(f\"\\nPredicted House Price: {predicted_price[0]:.2f}\")\n",
        "\n",
        "# New house details:\n",
        "# area=5000, bedrooms=3, bathrooms=2, stories=2,\n",
        "# mainroad=yes, guestroom=no, basement=yes,\n",
        "# hotwaterheating=no, airconditioning=yes,\n",
        "# parking=2, prefarea=yes, furnishingstatus=furnished\n",
        "#your code here\n"
      ],
      "metadata": {
        "id": "no5CjmoK2aHb",
        "colab": {
          "base_uri": "https://localhost:8080/"
        },
        "outputId": "e2160080-57a1-44dc-9b12-c682d0637cf4"
      },
      "execution_count": 10,
      "outputs": [
        {
          "output_type": "stream",
          "name": "stdout",
          "text": [
            "Enter area: 5000\n",
            "Enter number of bedrooms: 3\n",
            "Enter number of bathrooms: 2\n",
            "Enter number of stories: 2\n",
            "Mainroad (yes/no): yes\n",
            "Guestroom (yes/no): no\n",
            "Basement (yes/no): yes\n",
            "Hot water heating (yes/no): no\n",
            "Air conditioning (yes/no): yes\n",
            "Parking: 2\n",
            "Prefarea (yes/no): yes\n",
            "Furnishing status (furnished/semi-furnished/unfurnished): furnished\n",
            "\n",
            "Predicted House Price: 7333617.85\n"
          ]
        }
      ]
    }
  ]
}